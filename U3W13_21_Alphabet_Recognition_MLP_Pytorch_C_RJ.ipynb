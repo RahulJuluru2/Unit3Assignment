{
  "nbformat": 4,
  "nbformat_minor": 0,
  "metadata": {
    "colab": {
      "name": "U3W13_21_Alphabet_Recognition_MLP_Pytorch_C_RJ.ipynb",
      "provenance": [],
      "collapsed_sections": [],
      "include_colab_link": true
    },
    "kernelspec": {
      "display_name": "Python 3",
      "name": "python3"
    },
    "language_info": {
      "name": "python"
    },
    "accelerator": "GPU"
  },
  "cells": [
    {
      "cell_type": "markdown",
      "metadata": {
        "id": "view-in-github",
        "colab_type": "text"
      },
      "source": [
        "<a href=\"https://colab.research.google.com/github/RahulJuluru2/Unit3Assignment/blob/main/U3W13_21_Alphabet_Recognition_MLP_Pytorch_C_RJ.ipynb\" target=\"_parent\"><img src=\"https://colab.research.google.com/assets/colab-badge.svg\" alt=\"Open In Colab\"/></a>"
      ]
    },
    {
      "cell_type": "markdown",
      "metadata": {
        "id": "5aGs233mlbZV"
      },
      "source": [
        "# Advanced Certification in AIML\n",
        "## A Program by IIIT-H and TalentSprint"
      ]
    },
    {
      "cell_type": "markdown",
      "metadata": {
        "id": "9-ScFyDQs9Py"
      },
      "source": [
        "## Learning Objectives"
      ]
    },
    {
      "cell_type": "markdown",
      "metadata": {
        "id": "dA-UwvD_lbZY"
      },
      "source": [
        "At the end of the experiment you will be able to :\n",
        "\n",
        "* classify EMNIST data using MLPClassifier\n",
        "* understand how to implement MLP using PyTorch to run on GPU \n",
        "* classify EMNIST data using MLP PyTorch\n",
        "\n"
      ]
    },
    {
      "cell_type": "code",
      "metadata": {
        "cellView": "form",
        "id": "v5I5OEYP7PVi",
        "colab": {
          "base_uri": "https://localhost:8080/",
          "height": 502
        },
        "outputId": "4c062049-ba7f-4d9d-8544-2df43f88db1b"
      },
      "source": [
        "#@title Experiment Explanation Video\n",
        "from IPython.display import HTML\n",
        "\n",
        "HTML(\"\"\"<video width=\"854\" height=\"480\" controls>\n",
        "  <source src=\"https://cdn.exec.talentsprint.com/non-processed/alphabet_recognition_MLP_pytorch_walkthrough.mp4\" type=\"video/mp4\">\n",
        "</video>\n",
        "\"\"\")"
      ],
      "execution_count": null,
      "outputs": [
        {
          "output_type": "execute_result",
          "data": {
            "text/plain": [
              "<IPython.core.display.HTML object>"
            ],
            "text/html": [
              "<video width=\"854\" height=\"480\" controls>\n",
              "  <source src=\"https://cdn.exec.talentsprint.com/non-processed/alphabet_recognition_MLP_pytorch_walkthrough.mp4\" type=\"video/mp4\">\n",
              "</video>\n"
            ]
          },
          "metadata": {},
          "execution_count": 1
        }
      ]
    },
    {
      "cell_type": "markdown",
      "metadata": {
        "id": "KFAZONgRm2fM"
      },
      "source": [
        "## Dataset"
      ]
    },
    {
      "cell_type": "markdown",
      "metadata": {
        "id": "ijqHaydutZ5K"
      },
      "source": [
        "### Description"
      ]
    },
    {
      "cell_type": "markdown",
      "metadata": {
        "id": "hixia856nUEX"
      },
      "source": [
        "The EMNIST dataset is a set of handwritten alphabet digits derived from the NIST Special Database 19 and converted to a 28x28 pixel image format and dataset structure that directly matches the MNIST dataset.\n",
        "\n",
        "The EMNIST train and test files contain gray-scale images, from one through twenty six.\n",
        "\n",
        "Each image is 28 pixels in height and 28 pixels in width, and a total of 784 pixels. Each pixel has a single pixel-value associated with it, indicating the lightness or darkness of that pixel. This pixel-value is an integer between 0 and 255, inclusive. \n",
        "\n",
        "The training set and the testing data set, has 785 columns. The first column, called \"label\", is the alphabet digit that was drawn by the user. The rest of the columns contain the pixel-values of the associated image."
      ]
    },
    {
      "cell_type": "markdown",
      "metadata": {
        "id": "dUBatPVgq49B"
      },
      "source": [
        "## Setup Steps"
      ]
    },
    {
      "cell_type": "code",
      "metadata": {
        "id": "-o0Ybz6BtmVZ"
      },
      "source": [
        "#@title Please enter your registration id to start: (e.g. P181900101) { run: \"auto\", display-mode: \"form\" }\n",
        "Id=\"2216842\"#@param{type:\"string\"}"
      ],
      "execution_count": null,
      "outputs": []
    },
    {
      "cell_type": "code",
      "metadata": {
        "id": "9NiFNPXctr3z"
      },
      "source": [
        "#@title Please enter your password (normally your phone number) to continue: { run: \"auto\", display-mode: \"form\" }\n",
        "password=\"9959488784\"#@param{type:\"string\"}"
      ],
      "execution_count": null,
      "outputs": []
    },
    {
      "cell_type": "code",
      "metadata": {
        "id": "Tles91FY20M8",
        "cellView": "form",
        "colab": {
          "base_uri": "https://localhost:8080/",
          "height": 34
        },
        "outputId": "5583ac66-646c-4b81-9a3a-4049efad497a"
      },
      "source": [
        "#@title Run this cell to complete the setup for this Notebook\n",
        "from IPython import get_ipython\n",
        "import warnings\n",
        "warnings.filterwarnings(\"ignore\")\n",
        "\n",
        "ipython = get_ipython()\n",
        "  \n",
        "notebook= \"U3W13_21_Alphabet_Recognition_MLP_Pytorch_C\" #name of the notebook\n",
        "\n",
        "def setup(): \n",
        "    ipython.magic(\"sx pip install torch\") \n",
        "    ipython.magic(\"sx wget -qq https://cdn.iiith.talentsprint.com/aiml/Experiment_related_data/EMNIST-Train.zip\")\n",
        "    ipython.magic(\"sx unzip EMNIST-Train.zip\")\n",
        "    ipython.magic(\"sx wget -qq https://cdn.iiith.talentsprint.com/aiml/Experiment_related_data/EMNIST-Test.zip\")\n",
        "    ipython.magic(\"sx unzip EMNIST-Test.zip\")\n",
        "    from IPython.display import HTML, display\n",
        "    display(HTML('<script src=\"https://dashboard.talentsprint.com/aiml/record_ip.html?traineeId={0}&recordId={1}\"></script>'.format(getId(),submission_id)))\n",
        "    print(\"Setup completed successfully\")\n",
        "    return\n",
        "\n",
        "def submit_notebook():\n",
        "    ipython.magic(\"notebook -e \"+ notebook + \".ipynb\")\n",
        "    \n",
        "    import requests, json, base64, datetime\n",
        "\n",
        "    url = \"https://dashboard.talentsprint.com/xp/app/save_notebook_attempts\"\n",
        "    if not submission_id:\n",
        "      data = {\"id\" : getId(), \"notebook\" : notebook, \"mobile\" : getPassword()}\n",
        "      r = requests.post(url, data = data)\n",
        "      r = json.loads(r.text)\n",
        "\n",
        "      if r[\"status\"] == \"Success\":\n",
        "          return r[\"record_id\"]\n",
        "      elif \"err\" in r:        \n",
        "        print(r[\"err\"])\n",
        "        return None        \n",
        "      else:\n",
        "        print (\"Something is wrong, the notebook will not be submitted for grading\")\n",
        "        return None\n",
        "    \n",
        "    elif getAnswer() and getComplexity() and getAdditional() and getConcepts() and getWalkthrough() and getComments() and getMentorSupport():\n",
        "      f = open(notebook + \".ipynb\", \"rb\")\n",
        "      file_hash = base64.b64encode(f.read())\n",
        "\n",
        "      data = {\"complexity\" : Complexity, \"additional\" :Additional, \n",
        "              \"concepts\" : Concepts, \"record_id\" : submission_id, \n",
        "              \"answer\" : Answer, \"id\" : Id, \"file_hash\" : file_hash,\n",
        "              \"notebook\" : notebook, \"feedback_walkthrough\":Walkthrough ,\n",
        "              \"feedback_experiments_input\" : Comments,\n",
        "              \"feedback_mentor_support\": Mentor_support}\n",
        "\n",
        "      r = requests.post(url, data = data)\n",
        "      r = json.loads(r.text)\n",
        "      if \"err\" in r:        \n",
        "        print(r[\"err\"])\n",
        "        return None   \n",
        "      else:\n",
        "        print(\"Your submission is successful.\")\n",
        "        print(\"Ref Id:\", submission_id)\n",
        "        print(\"Date of submission: \", r[\"date\"])\n",
        "        print(\"Time of submission: \", r[\"time\"])\n",
        "        print(\"View your submissions: https://aiml.iiith.talentsprint.com/notebook_submissions\")\n",
        "        #print(\"For any queries/discrepancies, please connect with mentors through the chat icon in LMS dashboard.\")\n",
        "        return submission_id\n",
        "    else: submission_id\n",
        "    \n",
        "\n",
        "def getAdditional():\n",
        "  try:\n",
        "    if not Additional: \n",
        "      raise NameError\n",
        "    else:\n",
        "      return Additional  \n",
        "  except NameError:\n",
        "    print (\"Please answer Additional Question\")\n",
        "    return None\n",
        "\n",
        "def getComplexity():\n",
        "  try:\n",
        "    if not Complexity:\n",
        "      raise NameError\n",
        "    else:\n",
        "      return Complexity\n",
        "  except NameError:\n",
        "    print (\"Please answer Complexity Question\")\n",
        "    return None\n",
        "  \n",
        "def getConcepts():\n",
        "  try:\n",
        "    if not Concepts:\n",
        "      raise NameError\n",
        "    else:\n",
        "      return Concepts\n",
        "  except NameError:\n",
        "    print (\"Please answer Concepts Question\")\n",
        "    return None\n",
        "  \n",
        "  \n",
        "def getWalkthrough():\n",
        "  try:\n",
        "    if not Walkthrough:\n",
        "      raise NameError\n",
        "    else:\n",
        "      return Walkthrough\n",
        "  except NameError:\n",
        "    print (\"Please answer Walkthrough Question\")\n",
        "    return None\n",
        "  \n",
        "def getComments():\n",
        "  try:\n",
        "    if not Comments:\n",
        "      raise NameError\n",
        "    else:\n",
        "      return Comments\n",
        "  except NameError:\n",
        "    print (\"Please answer Comments Question\")\n",
        "    return None\n",
        "  \n",
        "\n",
        "def getMentorSupport():\n",
        "  try:\n",
        "    if not Mentor_support:\n",
        "      raise NameError\n",
        "    else:\n",
        "      return Mentor_support\n",
        "  except NameError:\n",
        "    print (\"Please answer Mentor support Question\")\n",
        "    return None\n",
        "\n",
        "def getAnswer():\n",
        "  try:\n",
        "    if not Answer:\n",
        "      raise NameError \n",
        "    else: \n",
        "      return Answer\n",
        "  except NameError:\n",
        "    print (\"Please answer Question\")\n",
        "    return None\n",
        "  \n",
        "\n",
        "def getId():\n",
        "  try: \n",
        "    return Id if Id else None\n",
        "  except NameError:\n",
        "    return None\n",
        "\n",
        "def getPassword():\n",
        "  try:\n",
        "    return password if password else None\n",
        "  except NameError:\n",
        "    return None\n",
        "\n",
        "submission_id = None\n",
        "### Setup \n",
        "if getPassword() and getId():\n",
        "  submission_id = submit_notebook()\n",
        "  if submission_id:\n",
        "    setup() \n",
        "else:\n",
        "  print (\"Please complete Id and Password cells before running setup\")\n",
        "\n"
      ],
      "execution_count": null,
      "outputs": [
        {
          "output_type": "display_data",
          "data": {
            "text/plain": [
              "<IPython.core.display.HTML object>"
            ],
            "text/html": [
              "<script src=\"https://dashboard.talentsprint.com/aiml/record_ip.html?traineeId=2216842&recordId=2084\"></script>"
            ]
          },
          "metadata": {}
        },
        {
          "output_type": "stream",
          "name": "stdout",
          "text": [
            "Setup completed successfully\n"
          ]
        }
      ]
    },
    {
      "cell_type": "markdown",
      "metadata": {
        "id": "ELePreM3QBkb"
      },
      "source": [
        "## Importing required packages\n",
        "\n",
        "* First, we import pytorch, the deep learning library.\n",
        "\n",
        "\n",
        "* We also import torch.nn (pytorch’s neural network library), torch.nn.functional (includes non-linear functions like ReLu and sigmoid) and torch.optim for implementing various optimization algorithms.\n",
        "\n"
      ]
    },
    {
      "cell_type": "code",
      "metadata": {
        "id": "yAz1CFkteUWp"
      },
      "source": [
        "import numpy as np\n",
        "import pandas as pd\n",
        "import matplotlib.pyplot as plt\n",
        "from sklearn.neural_network import MLPClassifier\n",
        "from sklearn.metrics import accuracy_score\n",
        "\n",
        "import torch\n",
        "import torch.nn as nn      \n",
        "import torch.nn.functional as F\n",
        "import torch.optim as optim\n",
        "from torch.utils.data import DataLoader, TensorDataset"
      ],
      "execution_count": null,
      "outputs": []
    },
    {
      "cell_type": "markdown",
      "metadata": {
        "id": "Du3Q8jTy8Bjr"
      },
      "source": [
        "## Load the EMNIST Train data"
      ]
    },
    {
      "cell_type": "code",
      "metadata": {
        "id": "k3kFmC2_lfxg"
      },
      "source": [
        "training_letters = pd.read_csv('/content/EMNIST-Train.csv')"
      ],
      "execution_count": null,
      "outputs": []
    },
    {
      "cell_type": "code",
      "metadata": {
        "id": "nUhPojhNOnpY",
        "colab": {
          "base_uri": "https://localhost:8080/"
        },
        "outputId": "dc386258-3680-4ec2-ba57-7c11c5321336"
      },
      "source": [
        "training_letters.shape"
      ],
      "execution_count": null,
      "outputs": [
        {
          "output_type": "execute_result",
          "data": {
            "text/plain": [
              "(62400, 785)"
            ]
          },
          "metadata": {},
          "execution_count": 7
        }
      ]
    },
    {
      "cell_type": "markdown",
      "metadata": {
        "id": "VjbosRO48K-k"
      },
      "source": [
        "## Get the features(pixels) and labels from the trainset"
      ]
    },
    {
      "cell_type": "code",
      "metadata": {
        "id": "llvHdh_yjOen",
        "colab": {
          "base_uri": "https://localhost:8080/"
        },
        "outputId": "d820636c-4a08-4a45-c5a5-71f397aae604"
      },
      "source": [
        "# Rescale the train images by dividing every pixel in every image by 255\n",
        "# Storing the features(pixel values for every image)\n",
        "train_images = training_letters.iloc[:,1:].values/255\n",
        "\n",
        "# Storing the labels(alphabet digits)\n",
        "train_labels = training_letters.iloc[:,0].values\n",
        "\n",
        "print(\"Train Labels before getting 0 based indices\\n\", np.unique(train_labels))\n",
        "print(\"\\n\")\n",
        "\n",
        "# For getting train labels 0 based indices\n",
        "train_labels = train_labels - 1\n",
        "print(\"Train Labels after getting 0 based indicies\\n\", np.unique(train_labels))"
      ],
      "execution_count": null,
      "outputs": [
        {
          "output_type": "stream",
          "name": "stdout",
          "text": [
            "Train Labels before getting 0 based indices\n",
            " [ 1  2  3  4  5  6  7  8  9 10 11 12 13 14 15 16 17 18 19 20 21 22 23 24\n",
            " 25 26]\n",
            "\n",
            "\n",
            "Train Labels after getting 0 based indicies\n",
            " [ 0  1  2  3  4  5  6  7  8  9 10 11 12 13 14 15 16 17 18 19 20 21 22 23\n",
            " 24 25]\n"
          ]
        }
      ]
    },
    {
      "cell_type": "markdown",
      "metadata": {
        "id": "Yv9r14BoAdvE"
      },
      "source": [
        "## Plotting the training images"
      ]
    },
    {
      "cell_type": "code",
      "metadata": {
        "id": "iK0P0czTl9X1",
        "colab": {
          "base_uri": "https://localhost:8080/",
          "height": 656
        },
        "outputId": "216662ea-4212-43fd-e746-e1d7ec7fe1a5"
      },
      "source": [
        "fig,axes = plt.subplots(3,3,figsize=(8,12))\n",
        "for i,ax in enumerate(axes.flat):\n",
        "    ax.imshow(train_images[i].reshape(28,28), cmap ='gray')\n",
        "    ax.set_title(train_labels[i])"
      ],
      "execution_count": null,
      "outputs": [
        {
          "output_type": "display_data",
          "data": {
            "text/plain": [
              "<Figure size 576x864 with 9 Axes>"
            ],
            "image/png": "[encoded data removed]"
          },
          "metadata": {
            "needs_background": "light"
          }
        }
      ]
    },
    {
      "cell_type": "markdown",
      "metadata": {
        "id": "el_M3jh2LZ8h"
      },
      "source": [
        "## Split the train data into train and test sets\n"
      ]
    },
    {
      "cell_type": "code",
      "metadata": {
        "id": "BI34yCN7m27f"
      },
      "source": [
        "from sklearn.model_selection import train_test_split\n",
        "X_train, X_test, Y_train, Y_test = train_test_split(train_images,train_labels,test_size=0.25, random_state=1)"
      ],
      "execution_count": null,
      "outputs": []
    },
    {
      "cell_type": "markdown",
      "metadata": {
        "id": "C_ZmFTfR70DW"
      },
      "source": [
        "## Apply MLP Classifier"
      ]
    },
    {
      "cell_type": "markdown",
      "metadata": {
        "id": "dbIayhsI75Rq"
      },
      "source": [
        "#### Train the model\n",
        "\n",
        "Note: This task will take more time for execution"
      ]
    },
    {
      "cell_type": "code",
      "metadata": {
        "id": "sWtlaAC-nu3i"
      },
      "source": [
        "# Create an object for MLP Classifier\n",
        "clf = MLPClassifier()\n",
        "\n",
        "# Fit the data to the model       \n",
        "clf.fit(X_train, Y_train)\n",
        "\n",
        "# Get the predictions on the test data\n",
        "pred = clf.predict(X_test)"
      ],
      "execution_count": null,
      "outputs": []
    },
    {
      "cell_type": "code",
      "metadata": {
        "id": "BBDmnIKkn7LG",
        "colab": {
          "base_uri": "https://localhost:8080/"
        },
        "outputId": "c2e3657b-dc26-4d31-f476-f30b651124d1"
      },
      "source": [
        "# Calculate the accuracy\n",
        "accuracy_score(Y_test, pred) "
      ],
      "execution_count": null,
      "outputs": [
        {
          "output_type": "execute_result",
          "data": {
            "text/plain": [
              "0.8910897435897436"
            ]
          },
          "metadata": {},
          "execution_count": 12
        }
      ]
    },
    {
      "cell_type": "markdown",
      "metadata": {
        "id": "41yRiflVoJYe"
      },
      "source": [
        "#### Test the model"
      ]
    },
    {
      "cell_type": "code",
      "metadata": {
        "id": "xSRuvYmHpnNM",
        "colab": {
          "base_uri": "https://localhost:8080/"
        },
        "outputId": "c66761ee-d94f-4d2e-c81f-97e3175cf93c"
      },
      "source": [
        "# Load the test data\n",
        "testing_letters = pd.read_csv('/content/EMNIST-Test.csv')\n",
        "print(testing_letters.shape)"
      ],
      "execution_count": null,
      "outputs": [
        {
          "output_type": "stream",
          "name": "stdout",
          "text": [
            "(10400, 785)\n"
          ]
        }
      ]
    },
    {
      "cell_type": "code",
      "metadata": {
        "id": "FWUeunrZpyFI"
      },
      "source": [
        "# Rescale the train images by dividing every pixel in every image by 255\n",
        "# Storing the features(pixel values for every image)\n",
        "test_images = testing_letters.iloc[:,1:].values/255\n",
        "\n",
        "# Storing the test labels(alphabet digits)\n",
        "test_labels = testing_letters.iloc[:,0].values \n",
        "\n",
        "# For getting test labels 0 based indices\n",
        "test_labels = test_labels - 1"
      ],
      "execution_count": null,
      "outputs": []
    },
    {
      "cell_type": "code",
      "metadata": {
        "id": "TW_1VzXsqb7a"
      },
      "source": [
        "# Get the predictions on the test images\n",
        "testdata_pred = clf.predict(test_images)"
      ],
      "execution_count": null,
      "outputs": []
    },
    {
      "cell_type": "code",
      "metadata": {
        "id": "rN6AFM42qenj",
        "colab": {
          "base_uri": "https://localhost:8080/"
        },
        "outputId": "3cc7e683-c132-495c-9891-71b270f15c55"
      },
      "source": [
        "# Calculate the accuracy \n",
        "accuracy_score(testdata_pred, test_labels) "
      ],
      "execution_count": null,
      "outputs": [
        {
          "output_type": "execute_result",
          "data": {
            "text/plain": [
              "0.8936538461538461"
            ]
          },
          "metadata": {},
          "execution_count": 16
        }
      ]
    },
    {
      "cell_type": "markdown",
      "metadata": {
        "id": "Wi-pr7wUn9qV"
      },
      "source": [
        "## MLP Pytorch"
      ]
    },
    {
      "cell_type": "markdown",
      "metadata": {
        "id": "1AsNZKmR7VwV"
      },
      "source": [
        "#### Prepare the data\n",
        "\n",
        "**torch.utils.data.DataLoader** class represents a Python iterable over a dataset, with following features.\n",
        "\n",
        "1. Batching the data\n",
        "2. Shuffling the data\n",
        "\n",
        "\n",
        "The batches of train and test data are provided via data loaders that provide iterators over the datasets to train our models."
      ]
    },
    {
      "cell_type": "code",
      "metadata": {
        "id": "UevgoHWmi4yT"
      },
      "source": [
        "# Initializing batch size\n",
        "batch_size =100\n",
        "\n",
        "# The TensorDataset takes an arbitrary number of input tensors by converting the train images from numpy array to tensor and converting labels using LongTensor to get scalar int values\n",
        "train_dataset = torch.utils.data.TensorDataset(torch.FloatTensor(train_images),torch.LongTensor(train_labels))\n",
        "test_dataset = torch.utils.data.TensorDataset(torch.FloatTensor(test_images),torch.LongTensor(test_labels))\n",
        "\n",
        "# Loading the train dataset\n",
        "train_loader = torch.utils.data.DataLoader(train_dataset, batch_size=batch_size)\n",
        "test_loader = torch.utils.data.DataLoader(test_dataset, batch_size=batch_size)"
      ],
      "execution_count": null,
      "outputs": []
    },
    {
      "cell_type": "markdown",
      "metadata": {
        "id": "vbm-8HxIqvxR"
      },
      "source": [
        "**Initializing CUDA**\n",
        "\n",
        "CUDA is used as an interface between our code and the GPU.\n",
        "\n",
        "Normally, we run the code in the CPU. To run it in the GPU, we need CUDA. Check if CUDA is available:"
      ]
    },
    {
      "cell_type": "code",
      "metadata": {
        "id": "PwVGNmOv0Fd9",
        "colab": {
          "base_uri": "https://localhost:8080/"
        },
        "outputId": "ecb2a7b2-cb3b-4d8b-f454-17f0d54cacc1"
      },
      "source": [
        "# To test whether GPU instance is present in the system of not.\n",
        "use_cuda = torch.cuda.is_available()\n",
        "print('Using PyTorch version:', torch.__version__, 'CUDA:', use_cuda)"
      ],
      "execution_count": null,
      "outputs": [
        {
          "output_type": "stream",
          "name": "stdout",
          "text": [
            "Using PyTorch version: 1.12.0+cu113 CUDA: True\n"
          ]
        }
      ]
    },
    {
      "cell_type": "markdown",
      "metadata": {
        "id": "DuGyWSz8q4NQ"
      },
      "source": [
        "If it's False, then we run the program on CPU. If it's True, then we run the program on GPU.\n",
        "\n",
        "Let us initialize some GPU-related variables:"
      ]
    },
    {
      "cell_type": "code",
      "metadata": {
        "id": "m_WeWksDqvxb",
        "colab": {
          "base_uri": "https://localhost:8080/"
        },
        "outputId": "6b674a58-2cd5-4526-d98c-9f5f4a050ef0"
      },
      "source": [
        "device = torch.device(\"cuda\" if use_cuda else \"cpu\")\n",
        "device"
      ],
      "execution_count": null,
      "outputs": [
        {
          "output_type": "execute_result",
          "data": {
            "text/plain": [
              "device(type='cuda')"
            ]
          },
          "metadata": {},
          "execution_count": 19
        }
      ]
    },
    {
      "cell_type": "markdown",
      "metadata": {
        "id": "u664CO5Zqvx7"
      },
      "source": [
        "#### Define the Neural Network \n",
        "\n",
        "Let's define the network as a Python class.\n",
        "\n",
        "There are three functions that are defined in this class:\n",
        "\n",
        "- ### **\\__init__()**:\n",
        "In this function, we shall declare all the layers of our neural network, including the number of neurons, kernel size etc.\n",
        "\n",
        "- ### **forward()**:\n",
        "This is the function that is used to compute forward pass of the network. Here, we shall connect the different layers we had defined in \\__init__(), according to the network architecture we want to make. In this case, $x -> fc1 -> relu -> fc2 -> out$.\n",
        "\n",
        "\"forward\" can be called by calling the object of this class directly. For example:\n",
        "\n",
        "```\n",
        "model = Net()\n",
        "out = model(x)\n",
        "```\n",
        "\n",
        "\n",
        "- ### **backward()**:\n",
        "This function is used to compute gradients across the entire network, and is called from the loss function at the end of the network.\n",
        "\n",
        "```\n",
        "loss.backward()\n",
        "```\n",
        "\n",
        "We have to write the **\\__init__()** and **forward()** methods, and PyTorch will automatically generate a **backward()** method for computing the gradients for the backward pass.\n",
        "\n",
        "In this case, we pass input (X) through the first layer, pass it’s output through the Relu layer, pass it's output through second layer, pass it's output to the relu layer, pass it's output through the third layer, pass it's output through the log softmax layer."
      ]
    },
    {
      "cell_type": "code",
      "metadata": {
        "id": "-vzpWcHr44xr"
      },
      "source": [
        "\n",
        "class Net(nn.Module):\n",
        "    def __init__(self):\n",
        "        super().__init__()\n",
        "\n",
        "        self.fc1 = nn.Linear(784, 150)\n",
        "        self.fc2 = nn.Linear(150, 100) \n",
        "        self.fc3 = nn.Linear(100, 50)\n",
        "        self.fc4 = nn.Linear(50, 50)\n",
        "        self.fc5 = nn.Linear(50, 26) \n",
        "      \n",
        "        \n",
        "    def forward(self, x):  \n",
        "          \n",
        "        out = x.view(-1,784)\n",
        "        out = F.relu(self.fc1(out))\n",
        "        out = F.relu(self.fc2(out))\n",
        "        out = F.relu(self.fc3(out))\n",
        "        out = F.relu(self.fc4(out))\n",
        "        out = self.fc5(out)\n",
        "        out = F.log_softmax(out, dim=1)\n",
        "        return out # The output layer is a linear layer with LogSoftmax as activation function because, this is a classification problem."
      ],
      "execution_count": null,
      "outputs": []
    },
    {
      "cell_type": "markdown",
      "metadata": {
        "id": "sSF28DZSFITy"
      },
      "source": [
        "Let us declare an object of class Net, and make it a CUDA model if CUDA is available:"
      ]
    },
    {
      "cell_type": "markdown",
      "metadata": {
        "id": "nw3kD1Kjqvx_"
      },
      "source": [
        "#### Calling the instances of the network\n",
        "\n",
        "Let us declare an object of class Net, and make it a CUDA model if CUDA is available:"
      ]
    },
    {
      "cell_type": "code",
      "metadata": {
        "id": "VSNz4pSqqvyA"
      },
      "source": [
        "model = Net()\n",
        "model = model.to(device)  "
      ],
      "execution_count": null,
      "outputs": []
    },
    {
      "cell_type": "code",
      "metadata": {
        "id": "DREKeiv8Rnd_",
        "colab": {
          "base_uri": "https://localhost:8080/"
        },
        "outputId": "a1e7335d-878c-4646-bc61-0135d5bf6cdd"
      },
      "source": [
        "print(model)"
      ],
      "execution_count": null,
      "outputs": [
        {
          "output_type": "stream",
          "name": "stdout",
          "text": [
            "Net(\n",
            "  (fc1): Linear(in_features=784, out_features=150, bias=True)\n",
            "  (fc2): Linear(in_features=150, out_features=100, bias=True)\n",
            "  (fc3): Linear(in_features=100, out_features=50, bias=True)\n",
            "  (fc4): Linear(in_features=50, out_features=50, bias=True)\n",
            "  (fc5): Linear(in_features=50, out_features=26, bias=True)\n",
            ")\n"
          ]
        }
      ]
    },
    {
      "cell_type": "markdown",
      "metadata": {
        "id": "sapgcL3hRwn9"
      },
      "source": [
        "#### Declaring loss function and optimizer"
      ]
    },
    {
      "cell_type": "code",
      "metadata": {
        "id": "0JW-xsizzjaa"
      },
      "source": [
        "criterion = nn.NLLLoss()\n",
        "optimizer = torch.optim.Adam(model.parameters(), lr=0.001)"
      ],
      "execution_count": null,
      "outputs": []
    },
    {
      "cell_type": "markdown",
      "metadata": {
        "id": "F75Z3ABdqvyY"
      },
      "source": [
        "#### Training and Testing the model\n",
        "\n",
        "\n",
        "In Training Phase, we iterate over a batch of images in the train_loader. For each batch, we \n",
        "perform  the following steps:\n",
        "\n",
        "* First we zero out the gradients using zero_grad()\n",
        "\n",
        "* We pass the data to the model i.e. we perform forward pass by calling the forward()\n",
        "\n",
        "* We calculate the loss using the actual and predicted labels\n",
        "\n",
        "* Perform Backward pass using backward() to update the weights"
      ]
    },
    {
      "cell_type": "code",
      "metadata": {
        "id": "9vnz-SOywxSY",
        "colab": {
          "base_uri": "https://localhost:8080/"
        },
        "outputId": "39f55ee8-2ba4-45eb-a4b2-a60e4b6bb4e3"
      },
      "source": [
        "# No of Epochs\n",
        "num_epochs = 10\n",
        "\n",
        "# Loop for no of epochs\n",
        "for epoch in range(num_epochs): \n",
        "    correct = 0\n",
        "    iter_loss = 0.0\n",
        "\n",
        "    # keeping the network in train mode\n",
        "    model.train()\n",
        "    train_loss, train_accuracy = [], []\n",
        "    \n",
        "    # Loop through each batch of images in train set\n",
        "    for (inputs, labels) in train_loader:\n",
        "\n",
        "        # Convert the inputs and label to gpu for faster execution\n",
        "        inputs = inputs.to(device)\n",
        "        labels = labels.to(device)\n",
        "        \n",
        "        # Zero out the gradients from the preivous step \n",
        "        optimizer.zero_grad() \n",
        "        \n",
        "        # Passing the data to the model (Forward Pass)\n",
        "        outputs = model(inputs)\n",
        "\n",
        "        # Calculating the loss\n",
        "        loss = criterion(outputs, labels)  \n",
        "        iter_loss += loss.item() \n",
        "        \n",
        "        # Performing backward pass (Backpropagation)\n",
        "        loss.backward() \n",
        "\n",
        "        # optimizer.step() updates the weights accordingly                      \n",
        "        optimizer.step() \n",
        "         \n",
        "        # Get the predictions by returning the maximum value of all elements in the output tensor. \n",
        "        _, predicted = torch.max(outputs, 1)\n",
        "        correct += (predicted == labels).sum().item()\n",
        "        \n",
        "    train_loss.append(iter_loss/len(train_dataset))\n",
        "    # Calculate the accuracy\n",
        "    train_accuracy.append((100 * correct / len(train_dataset)))\n",
        "    print ('Epoch {}/{}, Training Accuracy: {:.3f}'.format(epoch+1, num_epochs, train_accuracy[-1]))"
      ],
      "execution_count": null,
      "outputs": [
        {
          "output_type": "stream",
          "name": "stdout",
          "text": [
            "Epoch 1/10, Training Accuracy: 65.077\n",
            "Epoch 2/10, Training Accuracy: 84.226\n",
            "Epoch 3/10, Training Accuracy: 87.909\n",
            "Epoch 4/10, Training Accuracy: 89.880\n",
            "Epoch 5/10, Training Accuracy: 91.152\n",
            "Epoch 6/10, Training Accuracy: 92.119\n",
            "Epoch 7/10, Training Accuracy: 92.843\n",
            "Epoch 8/10, Training Accuracy: 93.468\n",
            "Epoch 9/10, Training Accuracy: 93.928\n",
            "Epoch 10/10, Training Accuracy: 94.364\n"
          ]
        }
      ]
    },
    {
      "cell_type": "markdown",
      "metadata": {
        "id": "R8R0CL5Gqvye"
      },
      "source": [
        "Now we are ready to train our model using the train() function. An epoch means one pass through the whole training data. After each epoch, we evaluate the model using eval():\n",
        "\n"
      ]
    },
    {
      "cell_type": "markdown",
      "metadata": {
        "id": "joWkArDlBXu9"
      },
      "source": [
        "In Testing Phase, we iterate over a batch of images in the test_loader without changing  weights. For each batch we perform the following steps:\n",
        "\n",
        "* We pass the images through the model (network) to get the outputs\n",
        "* Pick the class / label with the highest probability\n",
        "* Calculate the accuracy\n"
      ]
    },
    {
      "cell_type": "code",
      "metadata": {
        "id": "CYOqLolBz_X5",
        "colab": {
          "base_uri": "https://localhost:8080/"
        },
        "outputId": "59b5b46a-7d3c-416b-9dbb-30069e880ae7"
      },
      "source": [
        "# Keeping the network in evaluation mode \n",
        "model.eval()\n",
        "\n",
        "Test_accuracy=0\n",
        "for images, labels in test_loader:\n",
        "    \n",
        "      # Convert the images and labels to Pytorch tensor \n",
        "      images = images.to(device)\n",
        "      labels = labels.to(device)\n",
        "\n",
        "      # Passing images to the model, which return the probabilites as outputs\n",
        "      test_output = model(images) \n",
        "\n",
        "      # Picking the class/label with maximum probability                                                                 \n",
        "      _, predicted = torch.max(test_output, 1)\n",
        "      Test_accuracy += (predicted == labels).sum().item()\n",
        "\n",
        "# Calculating the accuracy\n",
        "Accuracy = 100 * Test_accuracy/ len(test_dataset)\n",
        "print(\"Accuracy of Test Data is\", Accuracy)"
      ],
      "execution_count": null,
      "outputs": [
        {
          "output_type": "stream",
          "name": "stdout",
          "text": [
            "Accuracy of Test Data is 89.875\n"
          ]
        }
      ]
    },
    {
      "cell_type": "markdown",
      "metadata": {
        "id": "QxI3ZtHiCPIq"
      },
      "source": [
        "# Please answer the questions below to complete the experiment:\n",
        "\n",
        "\n"
      ]
    },
    {
      "cell_type": "code",
      "metadata": {
        "id": "xYEYUjESCPJI"
      },
      "source": [
        "#@title State TRUE or FALSE: model.eval() in the testing phase also continues in updating the weights { run: \"auto\", form-width: \"500px\", display-mode: \"form\" }\n",
        "Answer = \"FALSE\" #@param [\"\",\"TRUE\", \"FALSE\"] \n"
      ],
      "execution_count": null,
      "outputs": []
    },
    {
      "cell_type": "code",
      "metadata": {
        "id": "NMzKSbLIgFzQ"
      },
      "source": [
        "#@title How was the experiment? { run: \"auto\", form-width: \"500px\", display-mode: \"form\" }\n",
        "Complexity = \"Good and Challenging for me\" #@param [\"\",\"Too Simple, I am wasting time\", \"Good, But Not Challenging for me\", \"Good and Challenging for me\", \"Was Tough, but I did it\", \"Too Difficult for me\"]\n"
      ],
      "execution_count": null,
      "outputs": []
    },
    {
      "cell_type": "code",
      "metadata": {
        "id": "DjcH1VWSFI2l"
      },
      "source": [
        "#@title If it was too easy, what more would you have liked to be added? If it was very difficult, what would you have liked to have been removed? { run: \"auto\", display-mode: \"form\" }\n",
        "Additional = \"Everything is good\" #@param {type:\"string\"}\n"
      ],
      "execution_count": null,
      "outputs": []
    },
    {
      "cell_type": "code",
      "metadata": {
        "id": "4VBk_4VTAxCM"
      },
      "source": [
        "#@title Can you identify the concepts from the lecture which this experiment covered? { run: \"auto\", vertical-output: true, display-mode: \"form\" }\n",
        "Concepts = \"Yes\" #@param [\"\",\"Yes\", \"No\"]\n"
      ],
      "execution_count": null,
      "outputs": []
    },
    {
      "cell_type": "code",
      "metadata": {
        "id": "r35isHfTVGKc"
      },
      "source": [
        "#@title  Experiment walkthrough video? { run: \"auto\", vertical-output: true, display-mode: \"form\" }\n",
        "Walkthrough = \"Very Useful\" #@param [\"\",\"Very Useful\", \"Somewhat Useful\", \"Not Useful\", \"Didn't use\"]\n"
      ],
      "execution_count": null,
      "outputs": []
    },
    {
      "cell_type": "code",
      "metadata": {
        "id": "XH91cL1JWH7m"
      },
      "source": [
        "#@title  Text and image description/explanation and code comments within the experiment: { run: \"auto\", vertical-output: true, display-mode: \"form\" }\n",
        "Comments = \"Very Useful\" #@param [\"\",\"Very Useful\", \"Somewhat Useful\", \"Not Useful\", \"Didn't use\"]\n"
      ],
      "execution_count": null,
      "outputs": []
    },
    {
      "cell_type": "code",
      "metadata": {
        "id": "z8xLqj7VWIKW"
      },
      "source": [
        "#@title Mentor Support: { run: \"auto\", vertical-output: true, display-mode: \"form\" }\n",
        "Mentor_support = \"Very Useful\" #@param [\"\",\"Very Useful\", \"Somewhat Useful\", \"Not Useful\", \"Didn't use\"]\n"
      ],
      "execution_count": null,
      "outputs": []
    },
    {
      "cell_type": "code",
      "metadata": {
        "id": "FzAZHt1zw-Y-",
        "cellView": "form",
        "colab": {
          "base_uri": "https://localhost:8080/"
        },
        "outputId": "0947d6b4-c82c-4c5d-9028-81cfc9beb843"
      },
      "source": [
        "#@title Run this cell to submit your notebook for grading { vertical-output: true }\n",
        "try:\n",
        "  if submission_id:\n",
        "      return_id = submit_notebook()\n",
        "      if return_id : submission_id = return_id\n",
        "  else:\n",
        "      print(\"Please complete the setup first.\")\n",
        "except NameError:\n",
        "  print (\"Please complete the setup first.\")"
      ],
      "execution_count": null,
      "outputs": [
        {
          "output_type": "stream",
          "name": "stdout",
          "text": [
            "Your submission is successful.\n",
            "Ref Id: 2084\n",
            "Date of submission:  08 Aug 2022\n",
            "Time of submission:  10:39:03\n",
            "View your submissions: https://aiml.iiith.talentsprint.com/notebook_submissions\n"
          ]
        }
      ]
    }
  ]
}