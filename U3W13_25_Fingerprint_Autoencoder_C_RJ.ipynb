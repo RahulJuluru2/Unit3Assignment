{
  "nbformat": 4,
  "nbformat_minor": 0,
  "metadata": {
    "colab": {
      "name": "U3W13_25_Fingerprint_Autoencoder_C_RJ.ipynb",
      "provenance": [],
      "collapsed_sections": [],
      "include_colab_link": true
    },
    "kernelspec": {
      "name": "python3",
      "display_name": "Python 3"
    },
    "language_info": {
      "name": "python"
    },
    "accelerator": "GPU",
    "gpuClass": "standard"
  },
  "cells": [
    {
      "cell_type": "markdown",
      "metadata": {
        "id": "view-in-github",
        "colab_type": "text"
      },
      "source": [
        "<a href=\"https://colab.research.google.com/github/RahulJuluru2/Unit3Assignment/blob/main/U3W13_25_Fingerprint_Autoencoder_C_RJ.ipynb\" target=\"_parent\"><img src=\"https://colab.research.google.com/assets/colab-badge.svg\" alt=\"Open In Colab\"/></a>"
      ]
    },
    {
      "cell_type": "markdown",
      "metadata": {
        "id": "2gD6DFr189TS"
      },
      "source": [
        "# Advanced Certification in AIML\n",
        "## A Program by IIIT-H and TalentSprint"
      ]
    },
    {
      "cell_type": "markdown",
      "metadata": {
        "id": "JkxYpEOgC2-q"
      },
      "source": [
        "\n",
        "## Learning Objectives\n",
        "\n",
        "\n",
        "\n"
      ]
    },
    {
      "cell_type": "markdown",
      "metadata": {
        "id": "Q8a1fbkpD3h3"
      },
      "source": [
        "At the end of the experiment, you will be able to learn:\n",
        "*  reconstructing images using convolutional autoencoder.\n",
        "\n",
        "\n"
      ]
    },
    {
      "cell_type": "code",
      "metadata": {
        "cellView": "form",
        "id": "hSHj5t43AQBe",
        "colab": {
          "base_uri": "https://localhost:8080/",
          "height": 501
        },
        "outputId": "1805c588-740f-426a-9b45-03c9a06fee60"
      },
      "source": [
        "#@title Experiment Explanation Video\n",
        "from IPython.display import HTML\n",
        "\n",
        "HTML(\"\"\"<video width=\"854\" height=\"480\" controls>\n",
        "  <source src=\"https://cdn.exec.talentsprint.com/non-processed/Reconstruction_of_Images_Walkthrough.mp4\" type=\"video/mp4\">\n",
        "</video>\n",
        "\"\"\")"
      ],
      "execution_count": 1,
      "outputs": [
        {
          "output_type": "execute_result",
          "data": {
            "text/plain": [
              "<IPython.core.display.HTML object>"
            ],
            "text/html": [
              "<video width=\"854\" height=\"480\" controls>\n",
              "  <source src=\"https://cdn.exec.talentsprint.com/non-processed/Reconstruction_of_Images_Walkthrough.mp4\" type=\"video/mp4\">\n",
              "</video>\n"
            ]
          },
          "metadata": {},
          "execution_count": 1
        }
      ]
    },
    {
      "cell_type": "markdown",
      "metadata": {
        "id": "8fGMzMRFD58Q"
      },
      "source": [
        "## Dataset"
      ]
    },
    {
      "cell_type": "markdown",
      "metadata": {
        "id": "-dXYsmesDTWo"
      },
      "source": [
        "### Description\n",
        "\n",
        "The fingerprint dataset has 320 images, 80 images per sensor and each sensor have varying image sizes. It consists of 4 different sensors fingerprints namely :\n",
        "\n",
        "* Low-cost Optical Sensor\n",
        "* Low-cost Capacitive Sensor\n",
        "* Optical Sensor \n",
        "* Synthetic Generator\n",
        "\n",
        "\n",
        "\n"
      ]
    },
    {
      "cell_type": "markdown",
      "metadata": {
        "id": "w2ak1KYfqpPz"
      },
      "source": [
        "### Autoencoder\n",
        "\n",
        "An autoencoder is made up of two components- the encoder and decoder network. The task of the encoder is to generate a lower dimensional embedding Z, which is referred to latent vector, or latent representation. After that, we have the decoder stage in which Z is reconstructed to X' prime, which is the same as X (input).\n",
        "\n",
        "\n",
        "![alt text](https://cdn.talentsprint.com/aiml/Experiment_related_data/IMAGES/6.png)\n",
        "\n",
        "\n",
        "\n",
        "\n"
      ]
    },
    {
      "cell_type": "markdown",
      "metadata": {
        "id": "H5djNNQBbg10"
      },
      "source": [
        "## Setup Steps"
      ]
    },
    {
      "cell_type": "code",
      "metadata": {
        "id": "2YzfoPvJDiTX"
      },
      "source": [
        "#@title Please enter your registration id to start: { run: \"auto\", display-mode: \"form\" }\n",
        "Id = \"2216842\" #@param {type:\"string\"}\n"
      ],
      "execution_count": 2,
      "outputs": []
    },
    {
      "cell_type": "code",
      "metadata": {
        "id": "rEzlYL4CDrmE"
      },
      "source": [
        "#@title Please enter your password (normally your phone number) to continue: { run: \"auto\", display-mode: \"form\" }\n",
        "password = \"9959488784\" #@param {type:\"string\"}\n"
      ],
      "execution_count": 3,
      "outputs": []
    },
    {
      "cell_type": "code",
      "metadata": {
        "id": "Tles91FY20M8",
        "cellView": "form",
        "colab": {
          "base_uri": "https://localhost:8080/",
          "height": 34
        },
        "outputId": "a328d764-5b0a-4210-bfdb-e3c54b56840f"
      },
      "source": [
        "#@title Run this cell to complete the setup for this Notebook\n",
        "from IPython import get_ipython\n",
        "import warnings\n",
        "warnings.filterwarnings(\"ignore\")\n",
        "\n",
        "ipython = get_ipython()\n",
        "  \n",
        "notebook= \"U3W13_25_Fingerprint_Autoencoder_C\" #name of the notebook\n",
        "\n",
        "def setup():\n",
        "    from IPython.display import HTML, display\n",
        "    ipython.magic(\"sx wget https://cdn.iiith.talentsprint.com/aiml/Experiment_related_data/Fingerprints.zip\")\n",
        "    ipython.magic(\"sx unzip /content/Fingerprints.zip\")\n",
        "    #ipython.magic(\"sx wget https://cdn.talentsprint.com/aiml/Experiment_related_data/fashion-mnist_test.csv\")\n",
        "    display(HTML('<script src=\"https://dashboard.talentsprint.com/aiml/record_ip.html?traineeId={0}&recordId={1}\"></script>'.format(getId(),submission_id)))\n",
        "    print(\"Setup completed successfully\")\n",
        "    return\n",
        "\n",
        "def submit_notebook():\n",
        "    ipython.magic(\"notebook -e \"+ notebook + \".ipynb\")\n",
        "    \n",
        "    import requests, json, base64, datetime\n",
        "\n",
        "    url = \"https://dashboard.talentsprint.com/xp/app/save_notebook_attempts\"\n",
        "    if not submission_id:\n",
        "      data = {\"id\" : getId(), \"notebook\" : notebook, \"mobile\" : getPassword()}\n",
        "      r = requests.post(url, data = data)\n",
        "      r = json.loads(r.text)\n",
        "\n",
        "      if r[\"status\"] == \"Success\":\n",
        "          return r[\"record_id\"]\n",
        "      elif \"err\" in r:        \n",
        "        print(r[\"err\"])\n",
        "        return None        \n",
        "      else:\n",
        "        print (\"Something is wrong, the notebook will not be submitted for grading\")\n",
        "        return None\n",
        "    \n",
        "    elif getAnswer() and getComplexity() and getAdditional() and getConcepts() and getWalkthrough() and getComments() and getMentorSupport():\n",
        "      f = open(notebook + \".ipynb\", \"rb\")\n",
        "      file_hash = base64.b64encode(f.read())\n",
        "\n",
        "      data = {\"complexity\" : Complexity, \"additional\" :Additional, \n",
        "              \"concepts\" : Concepts, \"record_id\" : submission_id, \n",
        "              \"answer\" : Answer, \"id\" : Id, \"file_hash\" : file_hash,\n",
        "              \"notebook\" : notebook, \"feedback_walkthrough\":Walkthrough ,\n",
        "              \"feedback_experiments_input\" : Comments,\n",
        "              \"feedback_mentor_support\": Mentor_support}\n",
        "\n",
        "      r = requests.post(url, data = data)\n",
        "      r = json.loads(r.text)\n",
        "      if \"err\" in r:        \n",
        "        print(r[\"err\"])\n",
        "        return None   \n",
        "      else:\n",
        "        print(\"Your submission is successful.\")\n",
        "        print(\"Ref Id:\", submission_id)\n",
        "        print(\"Date of submission: \", r[\"date\"])\n",
        "        print(\"Time of submission: \", r[\"time\"])\n",
        "        print(\"View your submissions: https://aiml.iiith.talentsprint.com/notebook_submissions\")\n",
        "        #print(\"For any queries/discrepancies, please connect with mentors through the chat icon in LMS dashboard.\")\n",
        "        return submission_id\n",
        "    else: submission_id\n",
        "    \n",
        "\n",
        "def getAdditional():\n",
        "  try:\n",
        "    if not Additional: \n",
        "      raise NameError\n",
        "    else:\n",
        "      return Additional  \n",
        "  except NameError:\n",
        "    print (\"Please answer Additional Question\")\n",
        "    return None\n",
        "\n",
        "def getComplexity():\n",
        "  try:\n",
        "    if not Complexity:\n",
        "      raise NameError\n",
        "    else:\n",
        "      return Complexity\n",
        "  except NameError:\n",
        "    print (\"Please answer Complexity Question\")\n",
        "    return None\n",
        "  \n",
        "def getConcepts():\n",
        "  try:\n",
        "    if not Concepts:\n",
        "      raise NameError\n",
        "    else:\n",
        "      return Concepts\n",
        "  except NameError:\n",
        "    print (\"Please answer Concepts Question\")\n",
        "    return None\n",
        "  \n",
        "  \n",
        "def getWalkthrough():\n",
        "  try:\n",
        "    if not Walkthrough:\n",
        "      raise NameError\n",
        "    else:\n",
        "      return Walkthrough\n",
        "  except NameError:\n",
        "    print (\"Please answer Walkthrough Question\")\n",
        "    return None\n",
        "  \n",
        "def getComments():\n",
        "  try:\n",
        "    if not Comments:\n",
        "      raise NameError\n",
        "    else:\n",
        "      return Comments\n",
        "  except NameError:\n",
        "    print (\"Please answer Comments Question\")\n",
        "    return None\n",
        "  \n",
        "\n",
        "def getMentorSupport():\n",
        "  try:\n",
        "    if not Mentor_support:\n",
        "      raise NameError\n",
        "    else:\n",
        "      return Mentor_support\n",
        "  except NameError:\n",
        "    print (\"Please answer Mentor support Question\")\n",
        "    return None\n",
        "\n",
        "def getAnswer():\n",
        "  try:\n",
        "    if not Answer:\n",
        "      raise NameError \n",
        "    else: \n",
        "      return Answer\n",
        "  except NameError:\n",
        "    print (\"Please answer Question\")\n",
        "    return None\n",
        "  \n",
        "\n",
        "def getId():\n",
        "  try: \n",
        "    return Id if Id else None\n",
        "  except NameError:\n",
        "    return None\n",
        "\n",
        "def getPassword():\n",
        "  try:\n",
        "    return password if password else None\n",
        "  except NameError:\n",
        "    return None\n",
        "\n",
        "submission_id = None\n",
        "### Setup \n",
        "if getPassword() and getId():\n",
        "  submission_id = submit_notebook()\n",
        "  if submission_id:\n",
        "    setup() \n",
        "else:\n",
        "  print (\"Please complete Id and Password cells before running setup\")\n",
        "\n"
      ],
      "execution_count": 4,
      "outputs": [
        {
          "output_type": "display_data",
          "data": {
            "text/plain": [
              "<IPython.core.display.HTML object>"
            ],
            "text/html": [
              "<script src=\"https://dashboard.talentsprint.com/aiml/record_ip.html?traineeId=2216842&recordId=2091\"></script>"
            ]
          },
          "metadata": {}
        },
        {
          "output_type": "stream",
          "name": "stdout",
          "text": [
            "Setup completed successfully\n"
          ]
        }
      ]
    },
    {
      "cell_type": "markdown",
      "metadata": {
        "id": "q3ksxwTIbz8X"
      },
      "source": [
        "## Importing Required Packages"
      ]
    },
    {
      "cell_type": "code",
      "metadata": {
        "id": "iFLQbbFiQSRX"
      },
      "source": [
        "import matplotlib.pyplot as plt\n",
        "import numpy as np\n",
        "from glob import glob\n",
        "from tifffile import imread\n",
        "from skimage.transform import resize\n",
        "import torch\n",
        "import torch.nn as nn      \n",
        "import torch.nn.functional as F\n",
        "import torch.optim as optim\n",
        "from torchsummary import summary"
      ],
      "execution_count": 5,
      "outputs": []
    },
    {
      "cell_type": "markdown",
      "metadata": {
        "id": "D0XK3l2fcLTx"
      },
      "source": [
        "## Load the  data"
      ]
    },
    {
      "cell_type": "markdown",
      "metadata": {
        "id": "jBic0RTDr4XY"
      },
      "source": [
        "#### About glob.iglob:\n",
        "\n",
        "The glob library  provides methods for traversing the file system and returning files that matched a defined set of glob patterns.\n",
        "\n",
        "**Note:** Refer to  [glob.iglob](https://docs.python.org/3/library/glob.html)"
      ]
    },
    {
      "cell_type": "code",
      "metadata": {
        "id": "uZtHPdpMSQAc",
        "colab": {
          "base_uri": "https://localhost:8080/"
        },
        "outputId": "b0669a30-514f-498d-882a-f32784b7edf3"
      },
      "source": [
        "data = glob('/content/fingerprints/DB*/*')\n",
        "images = []\n",
        "for i in range(len(data)):\n",
        "\n",
        "    # Reading the data using imread\n",
        "    img = imread(data[i])\n",
        "\n",
        "    # Resize the images to 224 * 224 as the images are of different sizes\n",
        "    img = resize(img,(224,224))\n",
        "    \n",
        "    # Appending all the images \n",
        "    images.append(img)\n",
        "\n",
        "# Converting the images into float32 array\n",
        "images_arr = np.asarray(images)\n",
        "images_arr = images_arr.astype('float32')\n",
        "print(\"Dataset:\", images_arr.shape)# The data has a shape of 320 x 224 x 224 since there are 320 samples each of the 224 x 224-dimensional matrix."
      ],
      "execution_count": 6,
      "outputs": [
        {
          "output_type": "stream",
          "name": "stdout",
          "text": [
            "Dataset: (320, 224, 224)\n"
          ]
        }
      ]
    },
    {
      "cell_type": "markdown",
      "metadata": {
        "id": "DC2mQzZmcPCt"
      },
      "source": [
        "## Visualizing the Images "
      ]
    },
    {
      "cell_type": "code",
      "metadata": {
        "id": "IFUe2gi0TrdE",
        "colab": {
          "base_uri": "https://localhost:8080/",
          "height": 248
        },
        "outputId": "fdc46cee-ee1a-4b21-ab92-1e5b186e5cad"
      },
      "source": [
        "# Display the first 9 images in the dataset\n",
        "for i in range(9):\n",
        "  plt.subplot(3, 3, i+1)\n",
        "  plt.axis('off')\n",
        "  plt.imshow(images_arr[i], cmap=\"gray\")"
      ],
      "execution_count": 7,
      "outputs": [
        {
          "output_type": "display_data",
          "data": {
            "text/plain": [
              "<Figure size 432x288 with 9 Axes>"
            ],
            "image/png": "[encoded data removed]"
          },
          "metadata": {
            "needs_background": "light"
          }
        }
      ]
    },
    {
      "cell_type": "markdown",
      "metadata": {
        "id": "NQIF2nATcUxH"
      },
      "source": [
        "## Data Preparation\n",
        "\n",
        "The images are in grayscale with a dimension of 224 X 224 and the number of channels for grayscale image is '1'. Reshaping the input array into four dimensions to feed into the Neural Network, which is 320 X 1 X 224 X 224 (nsamples, nchannels, height, width)"
      ]
    },
    {
      "cell_type": "code",
      "metadata": {
        "id": "rdKipz6oQWPm",
        "colab": {
          "base_uri": "https://localhost:8080/"
        },
        "outputId": "e97aac36-fdb7-4d43-c532-d2cbee943218"
      },
      "source": [
        "images_arr = images_arr.reshape(-1, 1, 224, 224)\n",
        "print(images_arr.shape)"
      ],
      "execution_count": 8,
      "outputs": [
        {
          "output_type": "stream",
          "name": "stdout",
          "text": [
            "(320, 1, 224, 224)\n"
          ]
        }
      ]
    },
    {
      "cell_type": "markdown",
      "metadata": {
        "id": "W11JtAruDmNd"
      },
      "source": [
        "## Split the data into training and a validation set."
      ]
    },
    {
      "cell_type": "code",
      "metadata": {
        "id": "GbYBFNHPDjeq",
        "colab": {
          "base_uri": "https://localhost:8080/"
        },
        "outputId": "de1051c8-79b5-4dac-cdf9-7255ea92ade7"
      },
      "source": [
        "from sklearn.model_selection import train_test_split\n",
        "# Training images both act as the input as well as the ground truth similar to the labels have in the classification task\n",
        "train_X,valid_X,train_ground,valid_ground = train_test_split(images_arr,images_arr,test_size=0.2,random_state=13)\n",
        "train_X.shape,valid_X.shape,train_ground.shape,valid_ground.shape"
      ],
      "execution_count": 9,
      "outputs": [
        {
          "output_type": "execute_result",
          "data": {
            "text/plain": [
              "((256, 1, 224, 224), (64, 1, 224, 224), (256, 1, 224, 224), (64, 1, 224, 224))"
            ]
          },
          "metadata": {},
          "execution_count": 9
        }
      ]
    },
    {
      "cell_type": "code",
      "metadata": {
        "id": "us2lW783RAyn"
      },
      "source": [
        "# To convert numpy to tensor, load the data using tensordataset and convert the values to FloatTensor\n",
        "train_dataset = torch.utils.data.TensorDataset(torch.FloatTensor(train_X),torch.FloatTensor(train_ground))\n",
        "test_dataset = torch.utils.data.TensorDataset(torch.FloatTensor(valid_X),torch.FloatTensor(valid_ground))\n",
        " \n",
        "# Loading the train dataset aand test dataset \n",
        "train_loader = torch.utils.data.DataLoader(train_dataset, batch_size=64)\n",
        "test_loader = torch.utils.data.DataLoader(test_dataset, batch_size=64)"
      ],
      "execution_count": 10,
      "outputs": []
    },
    {
      "cell_type": "markdown",
      "metadata": {
        "id": "vbm-8HxIqvxR"
      },
      "source": [
        "**Initializing CUDA**\n",
        "\n",
        "CUDA is used as an interface between our code and the GPU.\n",
        "\n",
        "Normally, we run the code in the CPU. To run it in the GPU, we need CUDA. Check if CUDA is available:"
      ]
    },
    {
      "cell_type": "code",
      "metadata": {
        "id": "YHj_ZREiqvxU",
        "colab": {
          "base_uri": "https://localhost:8080/"
        },
        "outputId": "403b8a75-2664-4fba-e67c-7a1d8a308d37"
      },
      "source": [
        "# To test whether GPU instance is present in the system or not.\n",
        "use_cuda = torch.cuda.is_available()\n",
        "print('Using PyTorch version:', torch.__version__, 'CUDA:', use_cuda)"
      ],
      "execution_count": 11,
      "outputs": [
        {
          "output_type": "stream",
          "name": "stdout",
          "text": [
            "Using PyTorch version: 1.12.0+cu113 CUDA: True\n"
          ]
        }
      ]
    },
    {
      "cell_type": "markdown",
      "metadata": {
        "id": "DuGyWSz8q4NQ"
      },
      "source": [
        "If it's False, the code is runining on CPU. If it's True, the code is runinng  on GPU.\n",
        "\n",
        "Let us initialize some GPU-related variables:"
      ]
    },
    {
      "cell_type": "code",
      "metadata": {
        "id": "lVUOypccj9yO"
      },
      "source": [
        "device  =  torch.device(\"cuda\" if torch.cuda.is_available() else \"cpu\")"
      ],
      "execution_count": 12,
      "outputs": []
    },
    {
      "cell_type": "markdown",
      "metadata": {
        "id": "qdltnANL3A03"
      },
      "source": [
        "## Defining the Convolutional Autoencoder Architecture"
      ]
    },
    {
      "cell_type": "markdown",
      "metadata": {
        "id": "TEhqiDSmfE3C"
      },
      "source": [
        "Define the Convolutional Autoencoder as a class where the encoding network component is made up of two convolutional layers to compress the data. Decoding network component is made up of two convolutional layers. Each layer output in encoding and decoding network are passed through Relu activation function in the forward function.\n",
        "\n",
        "\n"
      ]
    },
    {
      "cell_type": "markdown",
      "metadata": {
        "id": "w6MgNN46B3sE"
      },
      "source": [
        "The autoencoder is divided into two parts:\n",
        "\n",
        "**Encoder**\n",
        "\n",
        "The first layer will have 32 output channels with filter size 2 x 2\n",
        "\n",
        "The second layer will have 64 output channels with filter size 3 x 3, followed by a downsampling (max-pooling) layer,\n",
        "\n",
        "\n",
        "\n",
        "**Decoder**\n",
        "\n",
        "The first layer will have 32 output channels with filter size size 3 x 3\n",
        "\n",
        "The second layer will have 1 output channels with filter size size 2 x 2 \n",
        "\n",
        "\n"
      ]
    },
    {
      "cell_type": "code",
      "source": [
        "# Define the Convolutional Autoencoder\n",
        "class ConvAutoencoder(nn.Module):\n",
        "    def __init__(self):\n",
        "        super(ConvAutoencoder, self).__init__()\n",
        "       \n",
        "        # Encoder\n",
        "        # Defining the convolution layer with input_channels = 1, output_channels = 32, kernel_size = 2, padding =1\n",
        "        self.conv1 = nn.Conv2d(1, 32, 2, padding=1)  \n",
        "        # Defining the convolution layer with input_channels = 32, output_channels = 64, kernel_size = 3, padding =1\n",
        "        self.conv2 = nn.Conv2d(32, 64, 3, padding=1)\n",
        "        # Max pooling layer with filter size 2x2\n",
        "        self.pool = nn.MaxPool2d(2, 2)\n",
        "      \n",
        "        \n",
        "        # Decoder \n",
        "        # Defining the convolution layer with input_channels = 64, output_channels = 32, kernel_size = 3, stride =2\n",
        "        self.t_conv1 = nn.ConvTranspose2d(64, 32, 3, stride=2)\n",
        "        # Defining the convolution layer with input_channels = 32, output_channels = 1, kernel_size = 2, stride =2\n",
        "        self.t_conv2 = nn.ConvTranspose2d(32, 1, 2, stride=2)\n",
        "\n",
        "\n",
        "    def forward(self, x):\n",
        "        # Linear layers with RELU activation \n",
        "        x = F.relu(self.conv1(x))\n",
        "        x = self.pool(x)\n",
        "        x = F.relu(self.conv2(x))\n",
        "        \n",
        "        x = F.relu(self.t_conv1(x))\n",
        "        x = self.pool(x)\n",
        "        # output layer (with sigmoid for scaling from 0 to 1)\n",
        "        x = F.sigmoid(self.t_conv2(x))\n",
        "                \n",
        "        return x\n"
      ],
      "metadata": {
        "id": "tpOazQxRhAa9"
      },
      "execution_count": 13,
      "outputs": []
    },
    {
      "cell_type": "markdown",
      "metadata": {
        "id": "0hIHbU7ZEZ-O"
      },
      "source": [
        "#### Calling the instances of the network"
      ]
    },
    {
      "cell_type": "code",
      "metadata": {
        "id": "TE8se2sLAwXI",
        "colab": {
          "base_uri": "https://localhost:8080/"
        },
        "outputId": "9a4cc3c6-8e8f-478e-e10e-75b929a9d667"
      },
      "source": [
        "\n",
        "#Instantiate the model\n",
        "model = ConvAutoencoder().to(device)\n",
        "summary(model,(1,224,224))"
      ],
      "execution_count": 14,
      "outputs": [
        {
          "output_type": "stream",
          "name": "stdout",
          "text": [
            "----------------------------------------------------------------\n",
            "        Layer (type)               Output Shape         Param #\n",
            "================================================================\n",
            "            Conv2d-1         [-1, 32, 225, 225]             160\n",
            "         MaxPool2d-2         [-1, 32, 112, 112]               0\n",
            "            Conv2d-3         [-1, 64, 112, 112]          18,496\n",
            "   ConvTranspose2d-4         [-1, 32, 225, 225]          18,464\n",
            "         MaxPool2d-5         [-1, 32, 112, 112]               0\n",
            "   ConvTranspose2d-6          [-1, 1, 224, 224]             129\n",
            "================================================================\n",
            "Total params: 37,249\n",
            "Trainable params: 37,249\n",
            "Non-trainable params: 0\n",
            "----------------------------------------------------------------\n",
            "Input size (MB): 0.19\n",
            "Forward/backward pass size (MB): 37.35\n",
            "Params size (MB): 0.14\n",
            "Estimated Total Size (MB): 37.69\n",
            "----------------------------------------------------------------\n"
          ]
        }
      ]
    },
    {
      "cell_type": "markdown",
      "metadata": {
        "id": "Bn9n2HwLEdZ-"
      },
      "source": [
        "#### Defining the loss function and optimizer"
      ]
    },
    {
      "cell_type": "code",
      "metadata": {
        "id": "1Aa-oEGDRPIj"
      },
      "source": [
        "# Initialization of Mean Square Error\n",
        "loss_func = nn.MSELoss()\n",
        "\n",
        "# Initialization of Optimizer\n",
        "optimizer = torch.optim.Adam(model.parameters(), lr=0.005)"
      ],
      "execution_count": 15,
      "outputs": []
    },
    {
      "cell_type": "markdown",
      "metadata": {
        "id": "H1QKgmOIEvx0"
      },
      "source": [
        "### Training the Model \n",
        "\n",
        "Applying Autoencoders on the train data and finding the loss on the train dataset"
      ]
    },
    {
      "cell_type": "markdown",
      "source": [
        "Note : If the loss is not changing then do the factory reset the runtime"
      ],
      "metadata": {
        "id": "NpSlLSHZKN8H"
      }
    },
    {
      "cell_type": "code",
      "metadata": {
        "id": "wr5IrB8IRnwc",
        "colab": {
          "base_uri": "https://localhost:8080/"
        },
        "outputId": "e90df0c1-176d-46a7-f83f-ed8faa87d584"
      },
      "source": [
        "EPOCH = 10\n",
        "for epoch in range(EPOCH):\n",
        "    for x, y in train_loader:\n",
        "        t_x = x.to(device)\n",
        "        t_y = y.to(device)\n",
        "        # Zero the parameter gradients\n",
        "        optimizer.zero_grad()\n",
        "\n",
        "        # Passing the data to the model (Forward Pass)\n",
        "        decoded1 = model(t_x)\n",
        "\n",
        "        # Calculating mean square error loss\n",
        "        loss = loss_func(decoded1, t_y) \n",
        "        train_loss = loss.item()\n",
        "\n",
        "        # Performing backward pass (Backpropagation)\n",
        "        loss.backward() \n",
        "      \n",
        "        # optimizer.step() updates the weights accordingly                    \n",
        "        optimizer.step()  \n",
        "    print('Epoch: ', epoch, '| train loss: %.4f' % train_loss)"
      ],
      "execution_count": 16,
      "outputs": [
        {
          "output_type": "stream",
          "name": "stdout",
          "text": [
            "Epoch:  0 | train loss: 0.0439\n",
            "Epoch:  1 | train loss: 0.0300\n",
            "Epoch:  2 | train loss: 0.0169\n",
            "Epoch:  3 | train loss: 0.0133\n",
            "Epoch:  4 | train loss: 0.0120\n",
            "Epoch:  5 | train loss: 0.0101\n",
            "Epoch:  6 | train loss: 0.0093\n",
            "Epoch:  7 | train loss: 0.0081\n",
            "Epoch:  8 | train loss: 0.0070\n",
            "Epoch:  9 | train loss: 0.0060\n"
          ]
        }
      ]
    },
    {
      "cell_type": "markdown",
      "metadata": {
        "id": "CGMFhAOeidUt"
      },
      "source": [
        "### Evaluate the Model"
      ]
    },
    {
      "cell_type": "markdown",
      "metadata": {
        "id": "V7TDs5zyEpw8"
      },
      "source": [
        "Applying Autoencoders on the test data and finding the loss on the test dataset"
      ]
    },
    {
      "cell_type": "code",
      "metadata": {
        "id": "qWYbOndyJWSw",
        "colab": {
          "base_uri": "https://localhost:8080/"
        },
        "outputId": "1bb1c77d-e967-4407-e1f5-949d8275a4a4"
      },
      "source": [
        "# Keeping the network in evaluation mode \n",
        "model.eval()\n",
        "for x, y in test_loader:\n",
        "  # Convert the images and labels to gpu for faster execution\n",
        "  eval_x = x.to(device)\n",
        "  eval_y = y.to(device)\n",
        "  # Passing the data to the model (Forward Pass)\n",
        "  decoded2 = model(eval_x)\n",
        "   # Calculating mean square error loss\n",
        "  loss = loss_func(decoded2, eval_y)\n",
        "print(loss)"
      ],
      "execution_count": 17,
      "outputs": [
        {
          "output_type": "stream",
          "name": "stdout",
          "text": [
            "tensor(0.0069, device='cuda:0', grad_fn=<MseLossBackward0>)\n"
          ]
        }
      ]
    },
    {
      "cell_type": "markdown",
      "metadata": {
        "id": "hbduvLqrFMfL"
      },
      "source": [
        "### Visualizing the reconstruct images of the test data."
      ]
    },
    {
      "cell_type": "code",
      "metadata": {
        "id": "Yv3ZC8aOKJqL",
        "colab": {
          "base_uri": "https://localhost:8080/",
          "height": 305
        },
        "outputId": "9e03b96f-ba88-44c7-d594-2f759ab623ea"
      },
      "source": [
        "f, a = plt.subplots(2, 5, figsize=(8,6))\n",
        "for i in range(5):\n",
        "  a[0,i].imshow(eval_x[i].detach().cpu().numpy().reshape(224,224), cmap='gray')\n",
        "  a[0,i].set_xticks(()); \n",
        "  a[0,i].set_yticks(())\n",
        "  a[0,0].title.set_text('Test Images')\n",
        "  \n",
        "\n",
        "for i in range(5):\n",
        "  \n",
        "  a[1,i].imshow(decoded2[i].detach().cpu().numpy().reshape(224,224), cmap='gray')\n",
        "  a[1,i].set_xticks(())\n",
        "  a[1,i].set_yticks(())\n",
        "  a[1,0].title.set_text('Reconstructed Test Images')\n",
        "\n",
        "plt.show()"
      ],
      "execution_count": 18,
      "outputs": [
        {
          "output_type": "display_data",
          "data": {
            "text/plain": [
              "<Figure size 576x432 with 10 Axes>"
            ],
            "image/png": "[encoded data removed]"
          },
          "metadata": {}
        }
      ]
    },
    {
      "cell_type": "markdown",
      "metadata": {
        "id": "WeBPTt5RFnTv"
      },
      "source": [
        "From the above figures, you can observe that your model did a good job of reconstructing the test images that you predicted using the model. At least visually, the test and the reconstructed images look almost similar."
      ]
    },
    {
      "cell_type": "markdown",
      "metadata": {
        "id": "EaISHzUj9lw_"
      },
      "source": [
        "# Please answer the questions below to complete the experiment:\n",
        "\n",
        "\n"
      ]
    },
    {
      "cell_type": "code",
      "metadata": {
        "id": "RAL5agrq7olF"
      },
      "source": [
        "#@title The Encoder part of an Autoencoder will be equivalent to PCA if linear encoder, linear decoder, square error loss function with normalized inputs are used? { run: \"auto\", form-width: \"500px\", display-mode: \"form\" }\n",
        "Answer = \"TRUE\"#@param [\"\",\"TRUE\",\"FALSE\"]\n"
      ],
      "execution_count": 19,
      "outputs": []
    },
    {
      "cell_type": "code",
      "metadata": {
        "id": "NMzKSbLIgFzQ"
      },
      "source": [
        "#@title How was the experiment? { run: \"auto\", form-width: \"500px\", display-mode: \"form\" }\n",
        "Complexity = \"Good and Challenging for me\" #@param [\"\",\"Too Simple, I am wasting time\", \"Good, But Not Challenging for me\", \"Good and Challenging for me\", \"Was Tough, but I did it\", \"Too Difficult for me\"]\n"
      ],
      "execution_count": 20,
      "outputs": []
    },
    {
      "cell_type": "code",
      "metadata": {
        "id": "DjcH1VWSFI2l"
      },
      "source": [
        "#@title If it was too easy, what more would you have liked to be added? If it was very difficult, what would you have liked to have been removed? { run: \"auto\", display-mode: \"form\" }\n",
        "Additional = \"Everything is good\" #@param {type:\"string\"}\n"
      ],
      "execution_count": 21,
      "outputs": []
    },
    {
      "cell_type": "code",
      "metadata": {
        "id": "4VBk_4VTAxCM"
      },
      "source": [
        "#@title Can you identify the concepts from the lecture which this experiment covered? { run: \"auto\", vertical-output: true, display-mode: \"form\" }\n",
        "Concepts = \"Yes\" #@param [\"\",\"Yes\", \"No\"]\n"
      ],
      "execution_count": 22,
      "outputs": []
    },
    {
      "cell_type": "code",
      "metadata": {
        "id": "r35isHfTVGKc"
      },
      "source": [
        "#@title  Experiment walkthrough video? { run: \"auto\", vertical-output: true, display-mode: \"form\" }\n",
        "Walkthrough = \"Very Useful\" #@param [\"\",\"Very Useful\", \"Somewhat Useful\", \"Not Useful\", \"Didn't use\"]\n"
      ],
      "execution_count": 23,
      "outputs": []
    },
    {
      "cell_type": "code",
      "metadata": {
        "id": "XH91cL1JWH7m"
      },
      "source": [
        "#@title  Text and image description/explanation and code comments within the experiment: { run: \"auto\", vertical-output: true, display-mode: \"form\" }\n",
        "Comments = \"Very Useful\" #@param [\"\",\"Very Useful\", \"Somewhat Useful\", \"Not Useful\", \"Didn't use\"]\n"
      ],
      "execution_count": 24,
      "outputs": []
    },
    {
      "cell_type": "code",
      "metadata": {
        "id": "z8xLqj7VWIKW"
      },
      "source": [
        "#@title Mentor Support: { run: \"auto\", vertical-output: true, display-mode: \"form\" }\n",
        "Mentor_support = \"Very Useful\" #@param [\"\",\"Very Useful\", \"Somewhat Useful\", \"Not Useful\", \"Didn't use\"]\n"
      ],
      "execution_count": 25,
      "outputs": []
    },
    {
      "cell_type": "code",
      "metadata": {
        "id": "FzAZHt1zw-Y-",
        "cellView": "form",
        "colab": {
          "base_uri": "https://localhost:8080/"
        },
        "outputId": "bc227f9a-e2eb-4dbc-e95b-f763f5bc92ef"
      },
      "source": [
        "#@title Run this cell to submit your notebook for grading { vertical-output: true }\n",
        "try:\n",
        "  if submission_id:\n",
        "      return_id = submit_notebook()\n",
        "      if return_id : submission_id = return_id\n",
        "  else:\n",
        "      print(\"Please complete the setup first.\")\n",
        "except NameError:\n",
        "  print (\"Please complete the setup first.\")"
      ],
      "execution_count": 26,
      "outputs": [
        {
          "output_type": "stream",
          "name": "stdout",
          "text": [
            "Your submission is successful.\n",
            "Ref Id: 2091\n",
            "Date of submission:  08 Aug 2022\n",
            "Time of submission:  14:05:54\n",
            "View your submissions: https://aiml.iiith.talentsprint.com/notebook_submissions\n"
          ]
        }
      ]
    }
  ]
}